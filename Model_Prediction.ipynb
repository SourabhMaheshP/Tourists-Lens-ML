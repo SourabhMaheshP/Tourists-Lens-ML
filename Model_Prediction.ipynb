{
  "nbformat": 4,
  "nbformat_minor": 0,
  "metadata": {
    "colab": {
      "name": "Model Prediction.ipynb",
      "provenance": []
    },
    "kernelspec": {
      "name": "python3",
      "display_name": "Python 3"
    }
  },
  "cells": [
    {
      "cell_type": "code",
      "metadata": {
        "id": "pjquhDZwb43i",
        "colab_type": "code",
        "colab": {}
      },
      "source": [
        "from tensorflow.keras.models import load_model\n",
        "from tensorflow.keras.applications.inception_v3 import preprocess_input\n",
        "from tensorflow.keras.preprocessing import image"
      ],
      "execution_count": 16,
      "outputs": []
    },
    {
      "cell_type": "code",
      "metadata": {
        "id": "krZ-xCPwgpuP",
        "colab_type": "code",
        "colab": {}
      },
      "source": [
        "model=load_model('drive/My Drive/Monument_Datasets/trained_model.h5')"
      ],
      "execution_count": 22,
      "outputs": []
    },
    {
      "cell_type": "code",
      "metadata": {
        "id": "6kZibCu2hObu",
        "colab_type": "code",
        "colab": {}
      },
      "source": [
        "img=image.load_img('drive/My Drive/testdata/taj3.jpg',target_size=(224,224))"
      ],
      "execution_count": 23,
      "outputs": []
    },
    {
      "cell_type": "code",
      "metadata": {
        "id": "cedQ3mcqhP1w",
        "colab_type": "code",
        "colab": {
          "base_uri": "https://localhost:8080/",
          "height": 907
        },
        "outputId": "715135c1-795f-4413-9556-e4ab457ea3ba"
      },
      "source": [
        "x=image.img_to_array(img)\n",
        "x"
      ],
      "execution_count": 32,
      "outputs": [
        {
          "output_type": "execute_result",
          "data": {
            "text/plain": [
              "array([[[254., 255., 253.],\n",
              "        [253., 255., 252.],\n",
              "        [251., 255., 252.],\n",
              "        ...,\n",
              "        [255., 254., 255.],\n",
              "        [255., 254., 255.],\n",
              "        [255., 254., 255.]],\n",
              "\n",
              "       [[186., 215., 231.],\n",
              "        [188., 215., 232.],\n",
              "        [186., 213., 230.],\n",
              "        ...,\n",
              "        [204., 229., 234.],\n",
              "        [203., 228., 233.],\n",
              "        [202., 227., 232.]],\n",
              "\n",
              "       [[188., 211., 219.],\n",
              "        [193., 213., 222.],\n",
              "        [196., 213., 223.],\n",
              "        ...,\n",
              "        [209., 223., 234.],\n",
              "        [210., 224., 235.],\n",
              "        [210., 224., 235.]],\n",
              "\n",
              "       ...,\n",
              "\n",
              "       [[203., 174., 160.],\n",
              "        [201., 174., 157.],\n",
              "        [201., 175., 160.],\n",
              "        ...,\n",
              "        [ 71.,  72.,  77.],\n",
              "        [ 63.,  56.,  63.],\n",
              "        [ 86.,  79.,  86.]],\n",
              "\n",
              "       [[203., 174., 158.],\n",
              "        [201., 173., 162.],\n",
              "        [201., 173., 159.],\n",
              "        ...,\n",
              "        [ 85.,  86.,  91.],\n",
              "        [193., 188., 192.],\n",
              "        [ 58.,  53.,  57.]],\n",
              "\n",
              "       [[180., 153., 136.],\n",
              "        [199., 171., 157.],\n",
              "        [188., 161., 144.],\n",
              "        ...,\n",
              "        [ 74.,  73.,  79.],\n",
              "        [ 69.,  64.,  68.],\n",
              "        [ 72.,  67.,  71.]]], dtype=float32)"
            ]
          },
          "metadata": {
            "tags": []
          },
          "execution_count": 32
        }
      ]
    },
    {
      "cell_type": "code",
      "metadata": {
        "id": "pKIeoW-CiIe_",
        "colab_type": "code",
        "colab": {
          "base_uri": "https://localhost:8080/",
          "height": 35
        },
        "outputId": "684bb7ab-b07e-431b-c473-f7ec7e0071b5"
      },
      "source": [
        "print(x.shape)\n",
        "x = x/255"
      ],
      "execution_count": 33,
      "outputs": [
        {
          "output_type": "stream",
          "text": [
            "(224, 224, 3)\n"
          ],
          "name": "stdout"
        }
      ]
    },
    {
      "cell_type": "code",
      "metadata": {
        "id": "ZdTKcECMiV6k",
        "colab_type": "code",
        "colab": {
          "base_uri": "https://localhost:8080/",
          "height": 907
        },
        "outputId": "a6c2e7cd-1902-454a-c02b-07fa790f2a39"
      },
      "source": [
        "import numpy as np\n",
        "x=np.expand_dims(x,axis=0)\n",
        "x"
      ],
      "execution_count": 34,
      "outputs": [
        {
          "output_type": "execute_result",
          "data": {
            "text/plain": [
              "array([[[[0.99607843, 1.        , 0.99215686],\n",
              "         [0.99215686, 1.        , 0.9882353 ],\n",
              "         [0.9843137 , 1.        , 0.9882353 ],\n",
              "         ...,\n",
              "         [1.        , 0.99607843, 1.        ],\n",
              "         [1.        , 0.99607843, 1.        ],\n",
              "         [1.        , 0.99607843, 1.        ]],\n",
              "\n",
              "        [[0.7294118 , 0.84313726, 0.90588236],\n",
              "         [0.7372549 , 0.84313726, 0.9098039 ],\n",
              "         [0.7294118 , 0.8352941 , 0.9019608 ],\n",
              "         ...,\n",
              "         [0.8       , 0.8980392 , 0.91764706],\n",
              "         [0.79607844, 0.89411765, 0.9137255 ],\n",
              "         [0.7921569 , 0.8901961 , 0.9098039 ]],\n",
              "\n",
              "        [[0.7372549 , 0.827451  , 0.85882354],\n",
              "         [0.75686276, 0.8352941 , 0.87058824],\n",
              "         [0.76862746, 0.8352941 , 0.8745098 ],\n",
              "         ...,\n",
              "         [0.81960785, 0.8745098 , 0.91764706],\n",
              "         [0.8235294 , 0.8784314 , 0.92156863],\n",
              "         [0.8235294 , 0.8784314 , 0.92156863]],\n",
              "\n",
              "        ...,\n",
              "\n",
              "        [[0.79607844, 0.68235296, 0.627451  ],\n",
              "         [0.7882353 , 0.68235296, 0.6156863 ],\n",
              "         [0.7882353 , 0.6862745 , 0.627451  ],\n",
              "         ...,\n",
              "         [0.2784314 , 0.28235295, 0.3019608 ],\n",
              "         [0.24705882, 0.21960784, 0.24705882],\n",
              "         [0.3372549 , 0.30980393, 0.3372549 ]],\n",
              "\n",
              "        [[0.79607844, 0.68235296, 0.61960787],\n",
              "         [0.7882353 , 0.6784314 , 0.63529414],\n",
              "         [0.7882353 , 0.6784314 , 0.62352943],\n",
              "         ...,\n",
              "         [0.33333334, 0.3372549 , 0.35686275],\n",
              "         [0.75686276, 0.7372549 , 0.7529412 ],\n",
              "         [0.22745098, 0.20784314, 0.22352941]],\n",
              "\n",
              "        [[0.7058824 , 0.6       , 0.53333336],\n",
              "         [0.78039217, 0.67058825, 0.6156863 ],\n",
              "         [0.7372549 , 0.6313726 , 0.5647059 ],\n",
              "         ...,\n",
              "         [0.2901961 , 0.28627452, 0.30980393],\n",
              "         [0.27058825, 0.2509804 , 0.26666668],\n",
              "         [0.28235295, 0.2627451 , 0.2784314 ]]]], dtype=float32)"
            ]
          },
          "metadata": {
            "tags": []
          },
          "execution_count": 34
        }
      ]
    },
    {
      "cell_type": "code",
      "metadata": {
        "id": "2hd-yGhyjWr7",
        "colab_type": "code",
        "colab": {
          "base_uri": "https://localhost:8080/",
          "height": 35
        },
        "outputId": "7498418b-1ad5-4d0b-faf8-ed334dbeece3"
      },
      "source": [
        "import numpy as np\n",
        "img_data=preprocess_input(x)\n",
        "img_data.shape"
      ],
      "execution_count": 35,
      "outputs": [
        {
          "output_type": "execute_result",
          "data": {
            "text/plain": [
              "(1, 224, 224, 3)"
            ]
          },
          "metadata": {
            "tags": []
          },
          "execution_count": 35
        }
      ]
    },
    {
      "cell_type": "code",
      "metadata": {
        "id": "zxiaghhqil6x",
        "colab_type": "code",
        "colab": {
          "base_uri": "https://localhost:8080/",
          "height": 35
        },
        "outputId": "a2c4a039-d07c-48fd-f935-b7427a83b7d8"
      },
      "source": [
        "predicted = model.predict(img_data)\n",
        "# np.argmax(model.predict(img_data), axis=1)\n",
        "print(predicted)\n",
        "print(predicted.argmax())"
      ],
      "execution_count": 39,
      "outputs": [
        {
          "output_type": "execute_result",
          "data": {
            "text/plain": [
              "8"
            ]
          },
          "metadata": {
            "tags": []
          },
          "execution_count": 39
        }
      ]
    }
  ]
}